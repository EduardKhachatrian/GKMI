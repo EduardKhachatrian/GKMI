{
 "cells": [
  {
   "cell_type": "markdown",
   "metadata": {},
   "source": [
    "# GKMI / Unsupervised Information Selection Method\n",
    "\n",
    "GKMI is a flexible, accurate, efficient, and interpretable attribute selection method \n",
    "that is based on information theory metrics and Graph Laplacians and allows determining \n",
    "the most informative and relevant attributes in heterogeneous datasets. \n",
    "\n",
    "Authors :  Eduard Khachatrian    <eduard.khachatrian@uit.no>\n",
    "           Saloua Chlaily        <saloua.chlaily@uit.no> \n",
    "           Andrea Marinoni       <andrea.marinoni@uit.no>\n"
   ]
  },
  {
   "cell_type": "markdown",
   "metadata": {},
   "source": [
    "Clone the repository\n",
    "```\n",
    "git clone git@github.com:EduardKhachatrian/GKMI.git\n",
    "cd GKMI\n",
    "```\n",
    "\n",
    "Create environment using .yml file\n",
    "```\n",
    "conda env create -f environment.yml\n",
    "conda activate gkmi\n",
    "```\n",
    "\n",
    "Build install the gkmi package\n",
    "```\n",
    "python3 setup.py build install\n",
    "```\n",
    "\n",
    "Input Data:\n",
    "    Where to download \n",
    "    Folder structure \n",
    "        \n",
    "        test_data\n",
    "        │     \n",
    "        └───Pavia\n",
    "            │     \n",
    "            └───PaviaU_gt.mat\n",
    "\n",
    "Run Classification and Feature Extraction, <dataset> corresponds to the dataset the user wants to run the experiment\n",
    "    \n",
    "In sripts/pavia_config.py relpace ``` data_dir = 'test\\sssts\\ ``` with your local data path. Also, the user can tune the experiment's parameters.\n",
    "    \n",
    "```\n",
    "python3 main.py -d <dataset>\n",
    "```\n",
    "\n",
    "Output Data:\n",
    "    skjvnkjvdnsv.log\n",
    "    \n",
    "    classification_output\n",
    "        │     \n",
    "        └───Pavia\n",
    "            │     \n",
    "            └───outputksvksvnc.mat \n",
    "\n"
   ]
  },
  {
   "cell_type": "code",
   "execution_count": null,
   "metadata": {},
   "outputs": [],
   "source": []
  }
 ],
 "metadata": {
  "kernelspec": {
   "display_name": "Python 3",
   "language": "python",
   "name": "python3"
  },
  "language_info": {
   "codemirror_mode": {
    "name": "ipython",
    "version": 3
   },
   "file_extension": ".py",
   "mimetype": "text/x-python",
   "name": "python",
   "nbconvert_exporter": "python",
   "pygments_lexer": "ipython3",
   "version": "3.8.10"
  }
 },
 "nbformat": 4,
 "nbformat_minor": 4
}
